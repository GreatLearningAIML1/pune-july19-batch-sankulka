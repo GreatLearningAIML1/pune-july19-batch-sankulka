{
  "nbformat": 4,
  "nbformat_minor": 0,
  "metadata": {
    "colab": {
      "name": "R6_Internal_Lab_UpdatedTF2_Prices_Iris.ipynb",
      "provenance": []
    },
    "kernelspec": {
      "display_name": "Python 2",
      "language": "python",
      "name": "python2"
    }
  },
  "cells": [
    {
      "cell_type": "markdown",
      "metadata": {
        "colab_type": "text",
        "id": "84Q8JfvaeZZ6"
      },
      "source": [
        "## Linear Classifier in TensorFlow \n",
        "Using Low Level API in Eager Execution mode"
      ]
    },
    {
      "cell_type": "markdown",
      "metadata": {
        "colab_type": "text",
        "id": "sb7Epo0VOB58"
      },
      "source": [
        "### Load tensorflow"
      ]
    },
    {
      "cell_type": "code",
      "metadata": {
        "colab_type": "code",
        "id": "fHpCNRv1OB5-",
        "outputId": "4885b8c9-0d66-47fc-bf56-23595566ad44",
        "colab": {
          "base_uri": "https://localhost:8080/",
          "height": 62
        }
      },
      "source": [
        "import tensorflow as tf\n",
        "tf.enable_eager_execution()"
      ],
      "execution_count": 1,
      "outputs": [
        {
          "output_type": "display_data",
          "data": {
            "text/plain": [
              "<IPython.core.display.HTML object>"
            ],
            "text/html": [
              "<p style=\"color: red;\">\n",
              "The default version of TensorFlow in Colab will soon switch to TensorFlow 2.x.<br>\n",
              "We recommend you <a href=\"https://www.tensorflow.org/guide/migrate\" target=\"_blank\">upgrade</a> now \n",
              "or ensure your notebook will continue to use TensorFlow 1.x via the <code>%tensorflow_version 1.x</code> magic:\n",
              "<a href=\"https://colab.research.google.com/notebooks/tensorflow_version.ipynb\" target=\"_blank\">more info</a>.</p>\n"
            ]
          },
          "metadata": {
            "tags": []
          }
        }
      ]
    },
    {
      "cell_type": "code",
      "metadata": {
        "id": "PlKCTombENFo",
        "colab_type": "code",
        "outputId": "8c11c8cb-7a19-4dca-b9c2-3abe90c071d0",
        "colab": {
          "base_uri": "https://localhost:8080/",
          "height": 34
        }
      },
      "source": [
        "%tensorflow_version 2.x"
      ],
      "execution_count": 2,
      "outputs": [
        {
          "output_type": "stream",
          "text": [
            "TensorFlow is already loaded. Please restart the runtime to change versions.\n"
          ],
          "name": "stdout"
        }
      ]
    },
    {
      "cell_type": "code",
      "metadata": {
        "colab_type": "code",
        "id": "Mjtb-EMcm5K0",
        "colab": {}
      },
      "source": [
        "#Enable Eager Execution if using tensflow version < 2.0\n",
        "#From tensorflow v2.0 onwards, Eager Execution will be enabled by default\n"
      ],
      "execution_count": 0,
      "outputs": []
    },
    {
      "cell_type": "markdown",
      "metadata": {
        "colab_type": "text",
        "id": "DxJDmJqqOB6K"
      },
      "source": [
        "### Collect Data"
      ]
    },
    {
      "cell_type": "code",
      "metadata": {
        "colab_type": "code",
        "id": "FhllFLyKOB6N",
        "outputId": "93a0f22c-09c4-4db9-f841-4e167001082a",
        "colab": {
          "base_uri": "https://localhost:8080/",
          "height": 121
        }
      },
      "source": [
        "from google.colab import drive\n",
        "drive.mount('/content/drive')"
      ],
      "execution_count": 3,
      "outputs": [
        {
          "output_type": "stream",
          "text": [
            "Go to this URL in a browser: https://accounts.google.com/o/oauth2/auth?client_id=947318989803-6bn6qk8qdgf4n4g3pfee6491hc0brc4i.apps.googleusercontent.com&redirect_uri=urn%3aietf%3awg%3aoauth%3a2.0%3aoob&response_type=code&scope=email%20https%3a%2f%2fwww.googleapis.com%2fauth%2fdocs.test%20https%3a%2f%2fwww.googleapis.com%2fauth%2fdrive%20https%3a%2f%2fwww.googleapis.com%2fauth%2fdrive.photos.readonly%20https%3a%2f%2fwww.googleapis.com%2fauth%2fpeopleapi.readonly\n",
            "\n",
            "Enter your authorization code:\n",
            "··········\n",
            "Mounted at /content/drive\n"
          ],
          "name": "stdout"
        }
      ]
    },
    {
      "cell_type": "code",
      "metadata": {
        "colab_type": "code",
        "id": "KiObW4V4SIOz",
        "colab": {}
      },
      "source": [
        "import pandas as pd"
      ],
      "execution_count": 0,
      "outputs": []
    },
    {
      "cell_type": "code",
      "metadata": {
        "colab_type": "code",
        "id": "B4yQKMiJOB6R",
        "colab": {}
      },
      "source": [
        "data = pd.read_csv('/content/drive/My Drive/Colab Notebooks/Data/prices.csv')\n",
        "\n"
      ],
      "execution_count": 0,
      "outputs": []
    },
    {
      "cell_type": "markdown",
      "metadata": {
        "colab_type": "text",
        "id": "fgkX6SEqOB6W"
      },
      "source": [
        "### Check all columns in the dataset"
      ]
    },
    {
      "cell_type": "code",
      "metadata": {
        "colab_type": "code",
        "id": "7K8pWsNQOB6X",
        "outputId": "61e2fc15-1dd0-401d-e794-b3dde871d1db",
        "colab": {
          "base_uri": "https://localhost:8080/",
          "height": 34
        }
      },
      "source": [
        "data.columns"
      ],
      "execution_count": 6,
      "outputs": [
        {
          "output_type": "execute_result",
          "data": {
            "text/plain": [
              "Index([u'date', u'symbol', u'open', u'close', u'low', u'high', u'volume'], dtype='object')"
            ]
          },
          "metadata": {
            "tags": []
          },
          "execution_count": 6
        }
      ]
    },
    {
      "cell_type": "code",
      "metadata": {
        "id": "DCY7M6SiyabS",
        "colab_type": "code",
        "outputId": "afa4d13b-ca6a-4a8a-c445-99dc00450c83",
        "colab": {
          "base_uri": "https://localhost:8080/",
          "height": 218
        }
      },
      "source": [
        "data.info()"
      ],
      "execution_count": 7,
      "outputs": [
        {
          "output_type": "stream",
          "text": [
            "<class 'pandas.core.frame.DataFrame'>\n",
            "RangeIndex: 851264 entries, 0 to 851263\n",
            "Data columns (total 7 columns):\n",
            "date      851264 non-null object\n",
            "symbol    851264 non-null object\n",
            "open      851264 non-null float64\n",
            "close     851264 non-null float64\n",
            "low       851264 non-null float64\n",
            "high      851264 non-null float64\n",
            "volume    851264 non-null float64\n",
            "dtypes: float64(5), object(2)\n",
            "memory usage: 45.5+ MB\n"
          ],
          "name": "stdout"
        }
      ]
    },
    {
      "cell_type": "markdown",
      "metadata": {
        "colab_type": "text",
        "id": "7dU6X7MpOB6c"
      },
      "source": [
        "### Drop columns `date` and  `symbol`"
      ]
    },
    {
      "cell_type": "code",
      "metadata": {
        "colab_type": "code",
        "id": "lh_6spSKOB6e",
        "colab": {}
      },
      "source": [
        "data.drop(['date','symbol'],axis =1,inplace = True)"
      ],
      "execution_count": 0,
      "outputs": []
    },
    {
      "cell_type": "code",
      "metadata": {
        "colab_type": "code",
        "id": "xlwbUgTwOB6i",
        "outputId": "8f2bd806-2f16-4467-dd8b-0a52bfb170b0",
        "colab": {
          "base_uri": "https://localhost:8080/",
          "height": 195
        }
      },
      "source": [
        "data.head()"
      ],
      "execution_count": 9,
      "outputs": [
        {
          "output_type": "execute_result",
          "data": {
            "text/html": [
              "<div>\n",
              "<style scoped>\n",
              "    .dataframe tbody tr th:only-of-type {\n",
              "        vertical-align: middle;\n",
              "    }\n",
              "\n",
              "    .dataframe tbody tr th {\n",
              "        vertical-align: top;\n",
              "    }\n",
              "\n",
              "    .dataframe thead th {\n",
              "        text-align: right;\n",
              "    }\n",
              "</style>\n",
              "<table border=\"1\" class=\"dataframe\">\n",
              "  <thead>\n",
              "    <tr style=\"text-align: right;\">\n",
              "      <th></th>\n",
              "      <th>open</th>\n",
              "      <th>close</th>\n",
              "      <th>low</th>\n",
              "      <th>high</th>\n",
              "      <th>volume</th>\n",
              "    </tr>\n",
              "  </thead>\n",
              "  <tbody>\n",
              "    <tr>\n",
              "      <th>0</th>\n",
              "      <td>123.430000</td>\n",
              "      <td>125.839996</td>\n",
              "      <td>122.309998</td>\n",
              "      <td>126.250000</td>\n",
              "      <td>2163600.0</td>\n",
              "    </tr>\n",
              "    <tr>\n",
              "      <th>1</th>\n",
              "      <td>125.239998</td>\n",
              "      <td>119.980003</td>\n",
              "      <td>119.940002</td>\n",
              "      <td>125.540001</td>\n",
              "      <td>2386400.0</td>\n",
              "    </tr>\n",
              "    <tr>\n",
              "      <th>2</th>\n",
              "      <td>116.379997</td>\n",
              "      <td>114.949997</td>\n",
              "      <td>114.930000</td>\n",
              "      <td>119.739998</td>\n",
              "      <td>2489500.0</td>\n",
              "    </tr>\n",
              "    <tr>\n",
              "      <th>3</th>\n",
              "      <td>115.480003</td>\n",
              "      <td>116.620003</td>\n",
              "      <td>113.500000</td>\n",
              "      <td>117.440002</td>\n",
              "      <td>2006300.0</td>\n",
              "    </tr>\n",
              "    <tr>\n",
              "      <th>4</th>\n",
              "      <td>117.010002</td>\n",
              "      <td>114.970001</td>\n",
              "      <td>114.089996</td>\n",
              "      <td>117.330002</td>\n",
              "      <td>1408600.0</td>\n",
              "    </tr>\n",
              "  </tbody>\n",
              "</table>\n",
              "</div>"
            ],
            "text/plain": [
              "         open       close         low        high     volume\n",
              "0  123.430000  125.839996  122.309998  126.250000  2163600.0\n",
              "1  125.239998  119.980003  119.940002  125.540001  2386400.0\n",
              "2  116.379997  114.949997  114.930000  119.739998  2489500.0\n",
              "3  115.480003  116.620003  113.500000  117.440002  2006300.0\n",
              "4  117.010002  114.970001  114.089996  117.330002  1408600.0"
            ]
          },
          "metadata": {
            "tags": []
          },
          "execution_count": 9
        }
      ]
    },
    {
      "cell_type": "markdown",
      "metadata": {
        "colab_type": "text",
        "id": "3DBv3WWYOB6q"
      },
      "source": [
        "### Consider only first 1000 rows in the dataset for building feature set and target set\n",
        "Target 'Volume' has very high values. Divide 'Volume' by 1000,000"
      ]
    },
    {
      "cell_type": "code",
      "metadata": {
        "colab_type": "code",
        "id": "Z_hG9rGBOB6s",
        "colab": {}
      },
      "source": [
        "data_df = data.iloc[0:1000]"
      ],
      "execution_count": 0,
      "outputs": []
    },
    {
      "cell_type": "code",
      "metadata": {
        "id": "HHiuQpg6zDcl",
        "colab_type": "code",
        "outputId": "be8a02d1-3814-4690-87ba-9e6806248fed",
        "colab": {
          "base_uri": "https://localhost:8080/",
          "height": 34
        }
      },
      "source": [
        "data_df.shape"
      ],
      "execution_count": 11,
      "outputs": [
        {
          "output_type": "execute_result",
          "data": {
            "text/plain": [
              "(1000, 5)"
            ]
          },
          "metadata": {
            "tags": []
          },
          "execution_count": 11
        }
      ]
    },
    {
      "cell_type": "code",
      "metadata": {
        "id": "axjwmt80zOtU",
        "colab_type": "code",
        "outputId": "e6c8bf45-e542-4b11-81aa-bd6e8184d86f",
        "colab": {
          "base_uri": "https://localhost:8080/",
          "height": 118
        }
      },
      "source": [
        "data_df['volume'] = data_df['volume'] / 1000000"
      ],
      "execution_count": 12,
      "outputs": [
        {
          "output_type": "stream",
          "text": [
            "/usr/local/lib/python2.7/dist-packages/ipykernel_launcher.py:1: SettingWithCopyWarning: \n",
            "A value is trying to be set on a copy of a slice from a DataFrame.\n",
            "Try using .loc[row_indexer,col_indexer] = value instead\n",
            "\n",
            "See the caveats in the documentation: http://pandas.pydata.org/pandas-docs/stable/indexing.html#indexing-view-versus-copy\n",
            "  \"\"\"Entry point for launching an IPython kernel.\n"
          ],
          "name": "stderr"
        }
      ]
    },
    {
      "cell_type": "code",
      "metadata": {
        "id": "cTdEhXXTztL9",
        "colab_type": "code",
        "outputId": "37a779a0-9078-471f-d37a-8f3aef6eca33",
        "colab": {
          "base_uri": "https://localhost:8080/",
          "height": 195
        }
      },
      "source": [
        "data_df.head()"
      ],
      "execution_count": 13,
      "outputs": [
        {
          "output_type": "execute_result",
          "data": {
            "text/html": [
              "<div>\n",
              "<style scoped>\n",
              "    .dataframe tbody tr th:only-of-type {\n",
              "        vertical-align: middle;\n",
              "    }\n",
              "\n",
              "    .dataframe tbody tr th {\n",
              "        vertical-align: top;\n",
              "    }\n",
              "\n",
              "    .dataframe thead th {\n",
              "        text-align: right;\n",
              "    }\n",
              "</style>\n",
              "<table border=\"1\" class=\"dataframe\">\n",
              "  <thead>\n",
              "    <tr style=\"text-align: right;\">\n",
              "      <th></th>\n",
              "      <th>open</th>\n",
              "      <th>close</th>\n",
              "      <th>low</th>\n",
              "      <th>high</th>\n",
              "      <th>volume</th>\n",
              "    </tr>\n",
              "  </thead>\n",
              "  <tbody>\n",
              "    <tr>\n",
              "      <th>0</th>\n",
              "      <td>123.430000</td>\n",
              "      <td>125.839996</td>\n",
              "      <td>122.309998</td>\n",
              "      <td>126.250000</td>\n",
              "      <td>2.1636</td>\n",
              "    </tr>\n",
              "    <tr>\n",
              "      <th>1</th>\n",
              "      <td>125.239998</td>\n",
              "      <td>119.980003</td>\n",
              "      <td>119.940002</td>\n",
              "      <td>125.540001</td>\n",
              "      <td>2.3864</td>\n",
              "    </tr>\n",
              "    <tr>\n",
              "      <th>2</th>\n",
              "      <td>116.379997</td>\n",
              "      <td>114.949997</td>\n",
              "      <td>114.930000</td>\n",
              "      <td>119.739998</td>\n",
              "      <td>2.4895</td>\n",
              "    </tr>\n",
              "    <tr>\n",
              "      <th>3</th>\n",
              "      <td>115.480003</td>\n",
              "      <td>116.620003</td>\n",
              "      <td>113.500000</td>\n",
              "      <td>117.440002</td>\n",
              "      <td>2.0063</td>\n",
              "    </tr>\n",
              "    <tr>\n",
              "      <th>4</th>\n",
              "      <td>117.010002</td>\n",
              "      <td>114.970001</td>\n",
              "      <td>114.089996</td>\n",
              "      <td>117.330002</td>\n",
              "      <td>1.4086</td>\n",
              "    </tr>\n",
              "  </tbody>\n",
              "</table>\n",
              "</div>"
            ],
            "text/plain": [
              "         open       close         low        high  volume\n",
              "0  123.430000  125.839996  122.309998  126.250000  2.1636\n",
              "1  125.239998  119.980003  119.940002  125.540001  2.3864\n",
              "2  116.379997  114.949997  114.930000  119.739998  2.4895\n",
              "3  115.480003  116.620003  113.500000  117.440002  2.0063\n",
              "4  117.010002  114.970001  114.089996  117.330002  1.4086"
            ]
          },
          "metadata": {
            "tags": []
          },
          "execution_count": 13
        }
      ]
    },
    {
      "cell_type": "markdown",
      "metadata": {
        "colab_type": "text",
        "id": "M3UaApqYOB6x"
      },
      "source": [
        "### Divide the data into train and test sets"
      ]
    },
    {
      "cell_type": "code",
      "metadata": {
        "id": "vA9gkeTd0E7E",
        "colab_type": "code",
        "colab": {}
      },
      "source": [
        "y = data_df['volume']\n",
        "x = data_df.drop(['volume'], axis = 1)"
      ],
      "execution_count": 0,
      "outputs": []
    },
    {
      "cell_type": "code",
      "metadata": {
        "id": "YmgbHnsP0dLg",
        "colab_type": "code",
        "outputId": "d2919c8a-b609-4c32-ef3f-42e22ee14a18",
        "colab": {
          "base_uri": "https://localhost:8080/",
          "height": 34
        }
      },
      "source": [
        "x.shape, y.shape"
      ],
      "execution_count": 15,
      "outputs": [
        {
          "output_type": "execute_result",
          "data": {
            "text/plain": [
              "((1000, 4), (1000,))"
            ]
          },
          "metadata": {
            "tags": []
          },
          "execution_count": 15
        }
      ]
    },
    {
      "cell_type": "code",
      "metadata": {
        "colab_type": "code",
        "id": "4LE4U8lTdQJq",
        "colab": {}
      },
      "source": [
        "from sklearn.model_selection import train_test_split"
      ],
      "execution_count": 0,
      "outputs": []
    },
    {
      "cell_type": "code",
      "metadata": {
        "id": "DqW2VJcSz2Am",
        "colab_type": "code",
        "colab": {}
      },
      "source": [
        "train_x,test_x,train_y,test_y = train_test_split(x,y,test_size = 0.3, random_state =5)"
      ],
      "execution_count": 0,
      "outputs": []
    },
    {
      "cell_type": "markdown",
      "metadata": {
        "colab_type": "text",
        "id": "oYK-aUuLbrz2"
      },
      "source": [
        "#### Convert Training and Test Data to numpy float32 arrays\n"
      ]
    },
    {
      "cell_type": "code",
      "metadata": {
        "colab_type": "code",
        "id": "Ao-S0tQGcncz",
        "colab": {}
      },
      "source": [
        "import numpy as np\n",
        "train_x =np.array(train_x).astype('float32')\n",
        "test_x = np.array(test_x).astype('float32')\n",
        "train_y =np.array(train_y).astype('float32')\n",
        "test_y = np.array(test_y).astype('float32')"
      ],
      "execution_count": 0,
      "outputs": []
    },
    {
      "cell_type": "code",
      "metadata": {
        "id": "5vp9ttNH7e_P",
        "colab_type": "code",
        "colab": {}
      },
      "source": [
        "train_y=train_y.reshape(-1,1)"
      ],
      "execution_count": 0,
      "outputs": []
    },
    {
      "cell_type": "code",
      "metadata": {
        "id": "8xDIsZDD7g9U",
        "colab_type": "code",
        "outputId": "2c831165-0fd6-4d5d-a54b-0b9668dcf5e9",
        "colab": {
          "base_uri": "https://localhost:8080/",
          "height": 34
        }
      },
      "source": [
        "train_y.shape"
      ],
      "execution_count": 20,
      "outputs": [
        {
          "output_type": "execute_result",
          "data": {
            "text/plain": [
              "(700, 1)"
            ]
          },
          "metadata": {
            "tags": []
          },
          "execution_count": 20
        }
      ]
    },
    {
      "cell_type": "markdown",
      "metadata": {
        "colab_type": "text",
        "id": "im1ZegbDdKgv"
      },
      "source": [
        "### Normalize the data\n",
        "You can use Normalizer from sklearn.preprocessing"
      ]
    },
    {
      "cell_type": "code",
      "metadata": {
        "colab_type": "code",
        "id": "2EkKAy7fOB6y",
        "colab": {}
      },
      "source": [
        "from sklearn.preprocessing import Normalizer\n",
        "transformer = Normalizer()\n",
        "train_x = transformer.fit_transform(train_x)\n",
        "test_x = transformer.transform(test_x)"
      ],
      "execution_count": 0,
      "outputs": []
    },
    {
      "cell_type": "markdown",
      "metadata": {
        "colab_type": "text",
        "id": "v6vE4eYCOB62"
      },
      "source": [
        "## Building the Model in tensorflow"
      ]
    },
    {
      "cell_type": "markdown",
      "metadata": {
        "colab_type": "text",
        "id": "297_qja4OB7A"
      },
      "source": [
        "1.Define Weights and Bias, use tf.zeros to initialize weights and Bias"
      ]
    },
    {
      "cell_type": "code",
      "metadata": {
        "colab_type": "code",
        "id": "L205qPeQOB7B",
        "colab": {}
      },
      "source": [
        "#We are initializing weights and Bias of (Input-Hidden Layer)\n",
        "w1 = tf.random_normal(shape=(4,2))\n",
        "b1 = tf.zeros(shape=(2)) \n"
      ],
      "execution_count": 0,
      "outputs": []
    },
    {
      "cell_type": "code",
      "metadata": {
        "id": "ux23s7EC7w6C",
        "colab_type": "code",
        "colab": {}
      },
      "source": [
        "#We are initializing weights and Bias of (Hidden-Output)\n",
        "w2 = tf.random_normal(shape=(2,1))\n",
        "b2 = tf.zeros(shape=(1))"
      ],
      "execution_count": 0,
      "outputs": []
    },
    {
      "cell_type": "markdown",
      "metadata": {
        "colab_type": "text",
        "id": "HgtWA-UIOB7F"
      },
      "source": [
        "2.Define a function to calculate prediction"
      ]
    },
    {
      "cell_type": "code",
      "metadata": {
        "colab_type": "code",
        "id": "JveGlx25OB7H",
        "colab": {}
      },
      "source": [
        "def prediction(x, w1, b1,w2,b2):\n",
        "    \n",
        "    xw_matmul = tf.matmul(x, w1)\n",
        "    net1 = tf.add(xw_matmul, b1)\n",
        "    y=tf.sigmoid(net1)\n",
        "    net2=tf.matmul(y, w2)+b2\n",
        "    out=tf.sigmoid(net2)\n",
        "    return net2,out"
      ],
      "execution_count": 0,
      "outputs": []
    },
    {
      "cell_type": "markdown",
      "metadata": {
        "colab_type": "text",
        "id": "TL1hIwf_OB7M"
      },
      "source": [
        "3.Loss (Cost) Function [Mean square error]"
      ]
    },
    {
      "cell_type": "code",
      "metadata": {
        "colab_type": "code",
        "id": "8VSWPiGXOB7P",
        "colab": {}
      },
      "source": [
        "def loss(predicted_y, desired_y):\n",
        "  return tf.reduce_mean(tf.square(predicted_y - desired_y))"
      ],
      "execution_count": 0,
      "outputs": []
    },
    {
      "cell_type": "markdown",
      "metadata": {
        "colab_type": "text",
        "id": "jzG85FUlOB7U"
      },
      "source": [
        "4.Function to train the Model\n",
        "\n",
        "1.   Record all the mathematical steps to calculate Loss\n",
        "2.   Calculate Gradients of Loss w.r.t weights and bias\n",
        "3.   Update Weights and Bias based on gradients and learning rate to minimize loss"
      ]
    },
    {
      "cell_type": "code",
      "metadata": {
        "colab_type": "code",
        "id": "cj802w-3OB7X",
        "colab": {}
      },
      "source": [
        "def train(train_x, train_y, w1, b1,w2,b2, learning_rate=0.01):\n",
        "    \n",
        "    #Record mathematical operations on 'tape' to calculate loss\n",
        "    with tf.GradientTape() as t:\n",
        "        \n",
        "        t.watch([w1,b1,w2,b2])\n",
        "        \n",
        "        net2,current_prediction = prediction(train_x, w1, b1,w2,b2)\n",
        "        #current_loss =tf.nn.sigmoid_cross_entropy_with_logits(labels = train_y,logits =net2 )\n",
        "        current_loss = loss(net2, train_y)\n",
        "        print(current_loss)\n",
        "    \n",
        "    #Calculate Gradients for Loss with respect to Weights and Bias\n",
        "    dw1,db1,dw2,db2 = t.gradient(current_loss,[w1, b1,w2,b2])\n",
        "    \n",
        "    #Update Weights at output layer\n",
        "    w2 = w2 - learning_rate*dw2\n",
        "    b2 = b2 - learning_rate*db2\n",
        "    \n",
        "     #Update Weights at hidden layer\n",
        "    w1 = w1 - learning_rate*dw1\n",
        "    b1 = b1 - learning_rate*db1\n",
        "\n",
        "    #print(\"Loss at step {:d}: {:.3f}\".format(i, currentloss)\n",
        "    \n",
        "    return w1, b1,w2,b2\n"
      ],
      "execution_count": 0,
      "outputs": []
    },
    {
      "cell_type": "markdown",
      "metadata": {
        "colab_type": "text",
        "id": "xSypb_u8OB7e"
      },
      "source": [
        "## Train the model for 100 epochs \n",
        "1. Observe the training loss at every iteration\n",
        "2. Observe Train loss at every 5th iteration"
      ]
    },
    {
      "cell_type": "code",
      "metadata": {
        "colab_type": "code",
        "id": "DVvgj7eQOB7f",
        "outputId": "7fd1fb23-d478-4b32-9cb8-83f02e0ea40d",
        "colab": {
          "base_uri": "https://localhost:8080/",
          "height": 1000
        }
      },
      "source": [
        "for i in range(100):\n",
        "    \n",
        "    w1,b1,w2,b2 = train(train_x, train_y, w1, b1,w2,b2)"
      ],
      "execution_count": 27,
      "outputs": [
        {
          "output_type": "stream",
          "text": [
            "tf.Tensor(251.61565, shape=(), dtype=float32)\n",
            "tf.Tensor(250.29364, shape=(), dtype=float32)\n",
            "tf.Tensor(249.0402, shape=(), dtype=float32)\n",
            "tf.Tensor(247.85219, shape=(), dtype=float32)\n",
            "tf.Tensor(246.72705, shape=(), dtype=float32)\n",
            "tf.Tensor(245.66234, shape=(), dtype=float32)\n",
            "tf.Tensor(244.65567, shape=(), dtype=float32)\n",
            "tf.Tensor(243.70502, shape=(), dtype=float32)\n",
            "tf.Tensor(242.80826, shape=(), dtype=float32)\n",
            "tf.Tensor(241.96349, shape=(), dtype=float32)\n",
            "tf.Tensor(241.16866, shape=(), dtype=float32)\n",
            "tf.Tensor(240.42194, shape=(), dtype=float32)\n",
            "tf.Tensor(239.7215, shape=(), dtype=float32)\n",
            "tf.Tensor(239.06535, shape=(), dtype=float32)\n",
            "tf.Tensor(238.45168, shape=(), dtype=float32)\n",
            "tf.Tensor(237.87866, shape=(), dtype=float32)\n",
            "tf.Tensor(237.34442, shape=(), dtype=float32)\n",
            "tf.Tensor(236.84698, shape=(), dtype=float32)\n",
            "tf.Tensor(236.38464, shape=(), dtype=float32)\n",
            "tf.Tensor(235.95544, shape=(), dtype=float32)\n",
            "tf.Tensor(235.55762, shape=(), dtype=float32)\n",
            "tf.Tensor(235.18953, shape=(), dtype=float32)\n",
            "tf.Tensor(234.84929, shape=(), dtype=float32)\n",
            "tf.Tensor(234.5352, shape=(), dtype=float32)\n",
            "tf.Tensor(234.24582, shape=(), dtype=float32)\n",
            "tf.Tensor(233.97937, shape=(), dtype=float32)\n",
            "tf.Tensor(233.73436, shape=(), dtype=float32)\n",
            "tf.Tensor(233.50935, shape=(), dtype=float32)\n",
            "tf.Tensor(233.30295, shape=(), dtype=float32)\n",
            "tf.Tensor(233.11386, shape=(), dtype=float32)\n",
            "tf.Tensor(232.94073, shape=(), dtype=float32)\n",
            "tf.Tensor(232.78235, shape=(), dtype=float32)\n",
            "tf.Tensor(232.63777, shape=(), dtype=float32)\n",
            "tf.Tensor(232.50575, shape=(), dtype=float32)\n",
            "tf.Tensor(232.38533, shape=(), dtype=float32)\n",
            "tf.Tensor(232.27562, shape=(), dtype=float32)\n",
            "tf.Tensor(232.17569, shape=(), dtype=float32)\n",
            "tf.Tensor(232.08478, shape=(), dtype=float32)\n",
            "tf.Tensor(232.00214, shape=(), dtype=float32)\n",
            "tf.Tensor(231.9271, shape=(), dtype=float32)\n",
            "tf.Tensor(231.85886, shape=(), dtype=float32)\n",
            "tf.Tensor(231.79694, shape=(), dtype=float32)\n",
            "tf.Tensor(231.74083, shape=(), dtype=float32)\n",
            "tf.Tensor(231.68991, shape=(), dtype=float32)\n",
            "tf.Tensor(231.6438, shape=(), dtype=float32)\n",
            "tf.Tensor(231.60204, shape=(), dtype=float32)\n",
            "tf.Tensor(231.56424, shape=(), dtype=float32)\n",
            "tf.Tensor(231.52995, shape=(), dtype=float32)\n",
            "tf.Tensor(231.49904, shape=(), dtype=float32)\n",
            "tf.Tensor(231.47105, shape=(), dtype=float32)\n",
            "tf.Tensor(231.44579, shape=(), dtype=float32)\n",
            "tf.Tensor(231.4229, shape=(), dtype=float32)\n",
            "tf.Tensor(231.40228, shape=(), dtype=float32)\n",
            "tf.Tensor(231.38362, shape=(), dtype=float32)\n",
            "tf.Tensor(231.36679, shape=(), dtype=float32)\n",
            "tf.Tensor(231.35161, shape=(), dtype=float32)\n",
            "tf.Tensor(231.33792, shape=(), dtype=float32)\n",
            "tf.Tensor(231.32553, shape=(), dtype=float32)\n",
            "tf.Tensor(231.31439, shape=(), dtype=float32)\n",
            "tf.Tensor(231.30435, shape=(), dtype=float32)\n",
            "tf.Tensor(231.29529, shape=(), dtype=float32)\n",
            "tf.Tensor(231.28712, shape=(), dtype=float32)\n",
            "tf.Tensor(231.27975, shape=(), dtype=float32)\n",
            "tf.Tensor(231.27313, shape=(), dtype=float32)\n",
            "tf.Tensor(231.2671, shape=(), dtype=float32)\n",
            "tf.Tensor(231.26176, shape=(), dtype=float32)\n",
            "tf.Tensor(231.25691, shape=(), dtype=float32)\n",
            "tf.Tensor(231.25255, shape=(), dtype=float32)\n",
            "tf.Tensor(231.2486, shape=(), dtype=float32)\n",
            "tf.Tensor(231.24509, shape=(), dtype=float32)\n",
            "tf.Tensor(231.24191, shape=(), dtype=float32)\n",
            "tf.Tensor(231.23904, shape=(), dtype=float32)\n",
            "tf.Tensor(231.23648, shape=(), dtype=float32)\n",
            "tf.Tensor(231.23413, shape=(), dtype=float32)\n",
            "tf.Tensor(231.2321, shape=(), dtype=float32)\n",
            "tf.Tensor(231.23016, shape=(), dtype=float32)\n",
            "tf.Tensor(231.22853, shape=(), dtype=float32)\n",
            "tf.Tensor(231.22694, shape=(), dtype=float32)\n",
            "tf.Tensor(231.22559, shape=(), dtype=float32)\n",
            "tf.Tensor(231.22435, shape=(), dtype=float32)\n",
            "tf.Tensor(231.22324, shape=(), dtype=float32)\n",
            "tf.Tensor(231.22221, shape=(), dtype=float32)\n",
            "tf.Tensor(231.22134, shape=(), dtype=float32)\n",
            "tf.Tensor(231.22049, shape=(), dtype=float32)\n",
            "tf.Tensor(231.2198, shape=(), dtype=float32)\n",
            "tf.Tensor(231.21913, shape=(), dtype=float32)\n",
            "tf.Tensor(231.21852, shape=(), dtype=float32)\n",
            "tf.Tensor(231.21802, shape=(), dtype=float32)\n",
            "tf.Tensor(231.21759, shape=(), dtype=float32)\n",
            "tf.Tensor(231.21712, shape=(), dtype=float32)\n",
            "tf.Tensor(231.21678, shape=(), dtype=float32)\n",
            "tf.Tensor(231.21638, shape=(), dtype=float32)\n",
            "tf.Tensor(231.21606, shape=(), dtype=float32)\n",
            "tf.Tensor(231.21577, shape=(), dtype=float32)\n",
            "tf.Tensor(231.21552, shape=(), dtype=float32)\n",
            "tf.Tensor(231.21532, shape=(), dtype=float32)\n",
            "tf.Tensor(231.21509, shape=(), dtype=float32)\n",
            "tf.Tensor(231.21489, shape=(), dtype=float32)\n",
            "tf.Tensor(231.21474, shape=(), dtype=float32)\n",
            "tf.Tensor(231.2146, shape=(), dtype=float32)\n"
          ],
          "name": "stdout"
        }
      ]
    },
    {
      "cell_type": "code",
      "metadata": {
        "id": "DkMY3d5fBzSR",
        "colab_type": "code",
        "outputId": "bd92b6a2-8bbe-4401-9691-3736539f69ca",
        "colab": {
          "base_uri": "https://localhost:8080/",
          "height": 689
        }
      },
      "source": [
        "for i in range(0,100,5):\n",
        "    print(i)\n",
        "    w1,b1,w2,b2 = train(train_x, train_y, w1, b1,w2,b2)"
      ],
      "execution_count": 28,
      "outputs": [
        {
          "output_type": "stream",
          "text": [
            "0\n",
            "tf.Tensor(231.21446, shape=(), dtype=float32)\n",
            "5\n",
            "tf.Tensor(231.2144, shape=(), dtype=float32)\n",
            "10\n",
            "tf.Tensor(231.21422, shape=(), dtype=float32)\n",
            "15\n",
            "tf.Tensor(231.21408, shape=(), dtype=float32)\n",
            "20\n",
            "tf.Tensor(231.21402, shape=(), dtype=float32)\n",
            "25\n",
            "tf.Tensor(231.21397, shape=(), dtype=float32)\n",
            "30\n",
            "tf.Tensor(231.21384, shape=(), dtype=float32)\n",
            "35\n",
            "tf.Tensor(231.21375, shape=(), dtype=float32)\n",
            "40\n",
            "tf.Tensor(231.21375, shape=(), dtype=float32)\n",
            "45\n",
            "tf.Tensor(231.21365, shape=(), dtype=float32)\n",
            "50\n",
            "tf.Tensor(231.21365, shape=(), dtype=float32)\n",
            "55\n",
            "tf.Tensor(231.21364, shape=(), dtype=float32)\n",
            "60\n",
            "tf.Tensor(231.21358, shape=(), dtype=float32)\n",
            "65\n",
            "tf.Tensor(231.2135, shape=(), dtype=float32)\n",
            "70\n",
            "tf.Tensor(231.21344, shape=(), dtype=float32)\n",
            "75\n",
            "tf.Tensor(231.21344, shape=(), dtype=float32)\n",
            "80\n",
            "tf.Tensor(231.21344, shape=(), dtype=float32)\n",
            "85\n",
            "tf.Tensor(231.21341, shape=(), dtype=float32)\n",
            "90\n",
            "tf.Tensor(231.2134, shape=(), dtype=float32)\n",
            "95\n",
            "tf.Tensor(231.21333, shape=(), dtype=float32)\n"
          ],
          "name": "stdout"
        }
      ]
    },
    {
      "cell_type": "markdown",
      "metadata": {
        "colab_type": "text",
        "id": "DOL2ncA1OB7q"
      },
      "source": [
        "### Get the shapes and values of W and b"
      ]
    },
    {
      "cell_type": "code",
      "metadata": {
        "colab_type": "code",
        "id": "ZGvtyTeuOB7r",
        "outputId": "5a3d8d9d-e93a-4754-8032-af72893d6503",
        "colab": {
          "base_uri": "https://localhost:8080/",
          "height": 101
        }
      },
      "source": [
        "w1"
      ],
      "execution_count": 29,
      "outputs": [
        {
          "output_type": "execute_result",
          "data": {
            "text/plain": [
              "<tf.Tensor: id=6495, shape=(4, 2), dtype=float32, numpy=\n",
              "array([[ 1.816876  , -0.30552328],\n",
              "       [ 0.3293008 ,  1.5312587 ],\n",
              "       [-0.46109727,  0.15483312],\n",
              "       [ 0.68466216, -1.4926614 ]], dtype=float32)>"
            ]
          },
          "metadata": {
            "tags": []
          },
          "execution_count": 29
        }
      ]
    },
    {
      "cell_type": "code",
      "metadata": {
        "id": "uTsPbqufCr9o",
        "colab_type": "code",
        "outputId": "4ab2d7d5-74fd-42cb-dda9-c7da1c9b1570",
        "colab": {
          "base_uri": "https://localhost:8080/",
          "height": 50
        }
      },
      "source": [
        "w1.shape,w2.shape"
      ],
      "execution_count": 30,
      "outputs": [
        {
          "output_type": "execute_result",
          "data": {
            "text/plain": [
              "(TensorShape([Dimension(4), Dimension(2)]),\n",
              " TensorShape([Dimension(2), Dimension(1)]))"
            ]
          },
          "metadata": {
            "tags": []
          },
          "execution_count": 30
        }
      ]
    },
    {
      "cell_type": "code",
      "metadata": {
        "colab_type": "code",
        "id": "vhDtOv5UOB7x",
        "outputId": "ad43bfd4-2b8c-4b36-c235-509563c777a3",
        "colab": {
          "base_uri": "https://localhost:8080/",
          "height": 67
        }
      },
      "source": [
        "w2"
      ],
      "execution_count": 31,
      "outputs": [
        {
          "output_type": "execute_result",
          "data": {
            "text/plain": [
              "<tf.Tensor: id=6489, shape=(2, 1), dtype=float32, numpy=\n",
              "array([[2.1529672],\n",
              "       [1.7615798]], dtype=float32)>"
            ]
          },
          "metadata": {
            "tags": []
          },
          "execution_count": 31
        }
      ]
    },
    {
      "cell_type": "code",
      "metadata": {
        "id": "urcqnYiuDBEk",
        "colab_type": "code",
        "outputId": "300f5aaf-021c-4b16-fcd1-f34744267065",
        "colab": {
          "base_uri": "https://localhost:8080/",
          "height": 34
        }
      },
      "source": [
        "b1"
      ],
      "execution_count": 32,
      "outputs": [
        {
          "output_type": "execute_result",
          "data": {
            "text/plain": [
              "<tf.Tensor: id=6498, shape=(2,), dtype=float32, numpy=array([0.49514392, 0.626014  ], dtype=float32)>"
            ]
          },
          "metadata": {
            "tags": []
          },
          "execution_count": 32
        }
      ]
    },
    {
      "cell_type": "code",
      "metadata": {
        "id": "g-qVcF_YDEzX",
        "colab_type": "code",
        "outputId": "581cdd43-e5f5-403d-b5a9-0c3102919e9a",
        "colab": {
          "base_uri": "https://localhost:8080/",
          "height": 34
        }
      },
      "source": [
        "b2"
      ],
      "execution_count": 33,
      "outputs": [
        {
          "output_type": "execute_result",
          "data": {
            "text/plain": [
              "<tf.Tensor: id=6492, shape=(1,), dtype=float32, numpy=array([2.17399], dtype=float32)>"
            ]
          },
          "metadata": {
            "tags": []
          },
          "execution_count": 33
        }
      ]
    },
    {
      "cell_type": "markdown",
      "metadata": {
        "colab_type": "text",
        "id": "ERq9GOKKciho"
      },
      "source": [
        "### Model Prediction on 1st Examples in Test Dataset"
      ]
    },
    {
      "cell_type": "code",
      "metadata": {
        "colab_type": "code",
        "id": "gKGvUWahcihp",
        "colab": {}
      },
      "source": [
        "y_pred,current_prediction = prediction(test_x, w1, b1,w2,b2)"
      ],
      "execution_count": 0,
      "outputs": []
    },
    {
      "cell_type": "code",
      "metadata": {
        "id": "IT1rKwMXGigK",
        "colab_type": "code",
        "outputId": "b702ec7f-366b-4141-d20b-54be6836d870",
        "colab": {
          "base_uri": "https://localhost:8080/",
          "height": 1000
        }
      },
      "source": [
        "y_pred"
      ],
      "execution_count": 35,
      "outputs": [
        {
          "output_type": "execute_result",
          "data": {
            "text/plain": [
              "<tf.Tensor: id=6504, shape=(300, 1), dtype=float32, numpy=\n",
              "array([[5.112621 ],\n",
              "       [5.11433  ],\n",
              "       [5.111449 ],\n",
              "       [5.11388  ],\n",
              "       [5.109508 ],\n",
              "       [5.1121182],\n",
              "       [5.1124725],\n",
              "       [5.1098332],\n",
              "       [5.1125784],\n",
              "       [5.1130657],\n",
              "       [5.1131167],\n",
              "       [5.112302 ],\n",
              "       [5.1099796],\n",
              "       [5.11208  ],\n",
              "       [5.1149874],\n",
              "       [5.109944 ],\n",
              "       [5.1138744],\n",
              "       [5.1107655],\n",
              "       [5.1136503],\n",
              "       [5.1117926],\n",
              "       [5.111127 ],\n",
              "       [5.1116886],\n",
              "       [5.1136956],\n",
              "       [5.114218 ],\n",
              "       [5.107243 ],\n",
              "       [5.1124907],\n",
              "       [5.1137915],\n",
              "       [5.113505 ],\n",
              "       [5.1131444],\n",
              "       [5.114395 ],\n",
              "       [5.1131983],\n",
              "       [5.112752 ],\n",
              "       [5.111543 ],\n",
              "       [5.111226 ],\n",
              "       [5.1135616],\n",
              "       [5.1141634],\n",
              "       [5.113692 ],\n",
              "       [5.1142063],\n",
              "       [5.113824 ],\n",
              "       [5.1139903],\n",
              "       [5.113063 ],\n",
              "       [5.1144686],\n",
              "       [5.114694 ],\n",
              "       [5.113035 ],\n",
              "       [5.114704 ],\n",
              "       [5.112378 ],\n",
              "       [5.107429 ],\n",
              "       [5.112627 ],\n",
              "       [5.105423 ],\n",
              "       [5.111025 ],\n",
              "       [5.1114264],\n",
              "       [5.110722 ],\n",
              "       [5.114153 ],\n",
              "       [5.1126385],\n",
              "       [5.106966 ],\n",
              "       [5.112276 ],\n",
              "       [5.1108503],\n",
              "       [5.112216 ],\n",
              "       [5.1111207],\n",
              "       [5.113718 ],\n",
              "       [5.11269  ],\n",
              "       [5.1130185],\n",
              "       [5.107468 ],\n",
              "       [5.1129513],\n",
              "       [5.1111283],\n",
              "       [5.11299  ],\n",
              "       [5.1117396],\n",
              "       [5.1123343],\n",
              "       [5.112468 ],\n",
              "       [5.1148467],\n",
              "       [5.1148195],\n",
              "       [5.112155 ],\n",
              "       [5.110852 ],\n",
              "       [5.1120768],\n",
              "       [5.1144605],\n",
              "       [5.1144843],\n",
              "       [5.1146255],\n",
              "       [5.1122637],\n",
              "       [5.1148567],\n",
              "       [5.11227  ],\n",
              "       [5.114833 ],\n",
              "       [5.1133356],\n",
              "       [5.1127825],\n",
              "       [5.112616 ],\n",
              "       [5.111474 ],\n",
              "       [5.1138425],\n",
              "       [5.1116714],\n",
              "       [5.113096 ],\n",
              "       [5.114335 ],\n",
              "       [5.113171 ],\n",
              "       [5.1127124],\n",
              "       [5.1118517],\n",
              "       [5.1134596],\n",
              "       [5.113597 ],\n",
              "       [5.111992 ],\n",
              "       [5.115947 ],\n",
              "       [5.111436 ],\n",
              "       [5.1130257],\n",
              "       [5.1138706],\n",
              "       [5.1128387],\n",
              "       [5.113226 ],\n",
              "       [5.113058 ],\n",
              "       [5.1123857],\n",
              "       [5.1141524],\n",
              "       [5.110544 ],\n",
              "       [5.1118975],\n",
              "       [5.109953 ],\n",
              "       [5.1127653],\n",
              "       [5.109744 ],\n",
              "       [5.111282 ],\n",
              "       [5.1133013],\n",
              "       [5.110551 ],\n",
              "       [5.110648 ],\n",
              "       [5.11493  ],\n",
              "       [5.1147804],\n",
              "       [5.1125174],\n",
              "       [5.1144667],\n",
              "       [5.113982 ],\n",
              "       [5.114105 ],\n",
              "       [5.1137424],\n",
              "       [5.1116133],\n",
              "       [5.1138053],\n",
              "       [5.113839 ],\n",
              "       [5.1102953],\n",
              "       [5.1118946],\n",
              "       [5.1116667],\n",
              "       [5.1126633],\n",
              "       [5.1136026],\n",
              "       [5.113204 ],\n",
              "       [5.1110907],\n",
              "       [5.1120915],\n",
              "       [5.1120796],\n",
              "       [5.1122026],\n",
              "       [5.1112137],\n",
              "       [5.1094403],\n",
              "       [5.1120234],\n",
              "       [5.1131935],\n",
              "       [5.1132116],\n",
              "       [5.1144314],\n",
              "       [5.1137547],\n",
              "       [5.113907 ],\n",
              "       [5.114271 ],\n",
              "       [5.1113124],\n",
              "       [5.1138496],\n",
              "       [5.1106567],\n",
              "       [5.1130557],\n",
              "       [5.1141863],\n",
              "       [5.1129737],\n",
              "       [5.1134114],\n",
              "       [5.1127157],\n",
              "       [5.1133323],\n",
              "       [5.111987 ],\n",
              "       [5.110786 ],\n",
              "       [5.1130137],\n",
              "       [5.114731 ],\n",
              "       [5.111434 ],\n",
              "       [5.113783 ],\n",
              "       [5.114211 ],\n",
              "       [5.114642 ],\n",
              "       [5.111627 ],\n",
              "       [5.1100864],\n",
              "       [5.112588 ],\n",
              "       [5.1142616],\n",
              "       [5.1121864],\n",
              "       [5.110752 ],\n",
              "       [5.1130657],\n",
              "       [5.1142697],\n",
              "       [5.1124334],\n",
              "       [5.1137276],\n",
              "       [5.1143503],\n",
              "       [5.1124535],\n",
              "       [5.108718 ],\n",
              "       [5.113126 ],\n",
              "       [5.112763 ],\n",
              "       [5.1132274],\n",
              "       [5.1109653],\n",
              "       [5.114216 ],\n",
              "       [5.1130767],\n",
              "       [5.1095705],\n",
              "       [5.111282 ],\n",
              "       [5.1149626],\n",
              "       [5.115037 ],\n",
              "       [5.1113687],\n",
              "       [5.114637 ],\n",
              "       [5.1137724],\n",
              "       [5.113216 ],\n",
              "       [5.112257 ],\n",
              "       [5.1125517],\n",
              "       [5.1119437],\n",
              "       [5.113414 ],\n",
              "       [5.1114674],\n",
              "       [5.113059 ],\n",
              "       [5.113941 ],\n",
              "       [5.1122055],\n",
              "       [5.1131783],\n",
              "       [5.115005 ],\n",
              "       [5.112028 ],\n",
              "       [5.1140594],\n",
              "       [5.112955 ],\n",
              "       [5.1148067],\n",
              "       [5.113328 ],\n",
              "       [5.1113076],\n",
              "       [5.114457 ],\n",
              "       [5.111554 ],\n",
              "       [5.113862 ],\n",
              "       [5.1122093],\n",
              "       [5.1112328],\n",
              "       [5.108772 ],\n",
              "       [5.111996 ],\n",
              "       [5.113081 ],\n",
              "       [5.112998 ],\n",
              "       [5.114543 ],\n",
              "       [5.112668 ],\n",
              "       [5.1121483],\n",
              "       [5.1098814],\n",
              "       [5.1105175],\n",
              "       [5.1147842],\n",
              "       [5.111255 ],\n",
              "       [5.112625 ],\n",
              "       [5.1129904],\n",
              "       [5.110174 ],\n",
              "       [5.1137924],\n",
              "       [5.112726 ],\n",
              "       [5.113097 ],\n",
              "       [5.110924 ],\n",
              "       [5.1140323],\n",
              "       [5.1118546],\n",
              "       [5.111103 ],\n",
              "       [5.114192 ],\n",
              "       [5.1148677],\n",
              "       [5.114708 ],\n",
              "       [5.113698 ],\n",
              "       [5.1126785],\n",
              "       [5.111868 ],\n",
              "       [5.1142397],\n",
              "       [5.113635 ],\n",
              "       [5.1112456],\n",
              "       [5.1133156],\n",
              "       [5.1125145],\n",
              "       [5.1132383],\n",
              "       [5.1142282],\n",
              "       [5.1108913],\n",
              "       [5.110465 ],\n",
              "       [5.111369 ],\n",
              "       [5.111025 ],\n",
              "       [5.113991 ],\n",
              "       [5.110201 ],\n",
              "       [5.114028 ],\n",
              "       [5.114891 ],\n",
              "       [5.110218 ],\n",
              "       [5.113642 ],\n",
              "       [5.113659 ],\n",
              "       [5.112105 ],\n",
              "       [5.11279  ],\n",
              "       [5.1141405],\n",
              "       [5.1111674],\n",
              "       [5.113236 ],\n",
              "       [5.1117525],\n",
              "       [5.1138434],\n",
              "       [5.114915 ],\n",
              "       [5.1113796],\n",
              "       [5.115668 ],\n",
              "       [5.112681 ],\n",
              "       [5.112526 ],\n",
              "       [5.1136236],\n",
              "       [5.1136775],\n",
              "       [5.1137056],\n",
              "       [5.1128798],\n",
              "       [5.109741 ],\n",
              "       [5.111182 ],\n",
              "       [5.1108494],\n",
              "       [5.1130004],\n",
              "       [5.1108427],\n",
              "       [5.1128416],\n",
              "       [5.113    ],\n",
              "       [5.1126795],\n",
              "       [5.1138353],\n",
              "       [5.111689 ],\n",
              "       [5.112707 ],\n",
              "       [5.112067 ],\n",
              "       [5.1126184],\n",
              "       [5.1140575],\n",
              "       [5.11314  ],\n",
              "       [5.1146073],\n",
              "       [5.109949 ],\n",
              "       [5.113078 ],\n",
              "       [5.1142993],\n",
              "       [5.114448 ],\n",
              "       [5.111022 ],\n",
              "       [5.113549 ],\n",
              "       [5.1131306],\n",
              "       [5.11339  ],\n",
              "       [5.114334 ],\n",
              "       [5.112319 ],\n",
              "       [5.112355 ],\n",
              "       [5.1107473],\n",
              "       [5.1117516],\n",
              "       [5.1143675],\n",
              "       [5.1111603],\n",
              "       [5.114028 ]], dtype=float32)>"
            ]
          },
          "metadata": {
            "tags": []
          },
          "execution_count": 35
        }
      ]
    },
    {
      "cell_type": "code",
      "metadata": {
        "id": "zWgjcFiLHk9h",
        "colab_type": "code",
        "outputId": "f5e124ff-1273-42e3-b21b-12d293b1fee3",
        "colab": {
          "base_uri": "https://localhost:8080/",
          "height": 34
        }
      },
      "source": [
        "from sklearn.metrics import r2_score\n",
        "print(r2_score(test_y,y_pred))"
      ],
      "execution_count": 36,
      "outputs": [
        {
          "output_type": "stream",
          "text": [
            "-0.002667624433597693\n"
          ],
          "name": "stdout"
        }
      ]
    },
    {
      "cell_type": "markdown",
      "metadata": {
        "colab_type": "text",
        "id": "YJRBuqXhOB7_"
      },
      "source": [
        "## Classification using tf.Keras\n",
        "\n",
        "In this exercise, we will build a Deep Neural Network using tf.Keras. We will use Iris Dataset for this exercise."
      ]
    },
    {
      "cell_type": "markdown",
      "metadata": {
        "colab_type": "text",
        "id": "O0g6lorycihf"
      },
      "source": [
        "### Load the given Iris data using pandas (Iris.csv)"
      ]
    },
    {
      "cell_type": "code",
      "metadata": {
        "colab_type": "code",
        "id": "6xFvb5sRcihg",
        "colab": {}
      },
      "source": [
        "iris = pd.read_csv(\"/content/drive/My Drive/Colab Notebooks/Data/11_Iris.csv\")"
      ],
      "execution_count": 0,
      "outputs": []
    },
    {
      "cell_type": "markdown",
      "metadata": {
        "colab_type": "text",
        "id": "SAB--Qdwcihm"
      },
      "source": [
        "### Target set has different categories. So, Label encode them. And convert into one-hot vectors using get_dummies in pandas."
      ]
    },
    {
      "cell_type": "code",
      "metadata": {
        "colab_type": "code",
        "id": "IJr5dYnocihm",
        "outputId": "933f4791-e85b-463f-8004-2af0bcf6736f",
        "colab": {
          "base_uri": "https://localhost:8080/",
          "height": 195
        }
      },
      "source": [
        "iris.head()"
      ],
      "execution_count": 64,
      "outputs": [
        {
          "output_type": "execute_result",
          "data": {
            "text/html": [
              "<div>\n",
              "<style scoped>\n",
              "    .dataframe tbody tr th:only-of-type {\n",
              "        vertical-align: middle;\n",
              "    }\n",
              "\n",
              "    .dataframe tbody tr th {\n",
              "        vertical-align: top;\n",
              "    }\n",
              "\n",
              "    .dataframe thead th {\n",
              "        text-align: right;\n",
              "    }\n",
              "</style>\n",
              "<table border=\"1\" class=\"dataframe\">\n",
              "  <thead>\n",
              "    <tr style=\"text-align: right;\">\n",
              "      <th></th>\n",
              "      <th>Id</th>\n",
              "      <th>SepalLengthCm</th>\n",
              "      <th>SepalWidthCm</th>\n",
              "      <th>PetalLengthCm</th>\n",
              "      <th>PetalWidthCm</th>\n",
              "      <th>Species</th>\n",
              "    </tr>\n",
              "  </thead>\n",
              "  <tbody>\n",
              "    <tr>\n",
              "      <th>0</th>\n",
              "      <td>1</td>\n",
              "      <td>5.1</td>\n",
              "      <td>3.5</td>\n",
              "      <td>1.4</td>\n",
              "      <td>0.2</td>\n",
              "      <td>Iris-setosa</td>\n",
              "    </tr>\n",
              "    <tr>\n",
              "      <th>1</th>\n",
              "      <td>2</td>\n",
              "      <td>4.9</td>\n",
              "      <td>3.0</td>\n",
              "      <td>1.4</td>\n",
              "      <td>0.2</td>\n",
              "      <td>Iris-setosa</td>\n",
              "    </tr>\n",
              "    <tr>\n",
              "      <th>2</th>\n",
              "      <td>3</td>\n",
              "      <td>4.7</td>\n",
              "      <td>3.2</td>\n",
              "      <td>1.3</td>\n",
              "      <td>0.2</td>\n",
              "      <td>Iris-setosa</td>\n",
              "    </tr>\n",
              "    <tr>\n",
              "      <th>3</th>\n",
              "      <td>4</td>\n",
              "      <td>4.6</td>\n",
              "      <td>3.1</td>\n",
              "      <td>1.5</td>\n",
              "      <td>0.2</td>\n",
              "      <td>Iris-setosa</td>\n",
              "    </tr>\n",
              "    <tr>\n",
              "      <th>4</th>\n",
              "      <td>5</td>\n",
              "      <td>5.0</td>\n",
              "      <td>3.6</td>\n",
              "      <td>1.4</td>\n",
              "      <td>0.2</td>\n",
              "      <td>Iris-setosa</td>\n",
              "    </tr>\n",
              "  </tbody>\n",
              "</table>\n",
              "</div>"
            ],
            "text/plain": [
              "   Id  SepalLengthCm  SepalWidthCm  PetalLengthCm  PetalWidthCm      Species\n",
              "0   1            5.1           3.5            1.4           0.2  Iris-setosa\n",
              "1   2            4.9           3.0            1.4           0.2  Iris-setosa\n",
              "2   3            4.7           3.2            1.3           0.2  Iris-setosa\n",
              "3   4            4.6           3.1            1.5           0.2  Iris-setosa\n",
              "4   5            5.0           3.6            1.4           0.2  Iris-setosa"
            ]
          },
          "metadata": {
            "tags": []
          },
          "execution_count": 64
        }
      ]
    },
    {
      "cell_type": "code",
      "metadata": {
        "id": "hMecdmpGLey1",
        "colab_type": "code",
        "colab": {}
      },
      "source": [
        "dummy = pd.get_dummies(iris['Species'])"
      ],
      "execution_count": 0,
      "outputs": []
    },
    {
      "cell_type": "code",
      "metadata": {
        "id": "AhJASNFqRLVy",
        "colab_type": "code",
        "colab": {}
      },
      "source": [
        "iris = pd.concat([iris, dummy], axis=1)"
      ],
      "execution_count": 0,
      "outputs": []
    },
    {
      "cell_type": "code",
      "metadata": {
        "id": "gvfjgiZpSfjy",
        "colab_type": "code",
        "colab": {}
      },
      "source": [
        "iris.drop(labels=['Species'], axis=1, inplace=True)"
      ],
      "execution_count": 0,
      "outputs": []
    },
    {
      "cell_type": "code",
      "metadata": {
        "id": "bWBNA6TKRsTY",
        "colab_type": "code",
        "colab": {
          "base_uri": "https://localhost:8080/",
          "height": 195
        },
        "outputId": "10c9bd74-0f36-4965-a3e5-7c908c4936ea"
      },
      "source": [
        "iris.head()"
      ],
      "execution_count": 70,
      "outputs": [
        {
          "output_type": "execute_result",
          "data": {
            "text/html": [
              "<div>\n",
              "<style scoped>\n",
              "    .dataframe tbody tr th:only-of-type {\n",
              "        vertical-align: middle;\n",
              "    }\n",
              "\n",
              "    .dataframe tbody tr th {\n",
              "        vertical-align: top;\n",
              "    }\n",
              "\n",
              "    .dataframe thead th {\n",
              "        text-align: right;\n",
              "    }\n",
              "</style>\n",
              "<table border=\"1\" class=\"dataframe\">\n",
              "  <thead>\n",
              "    <tr style=\"text-align: right;\">\n",
              "      <th></th>\n",
              "      <th>Id</th>\n",
              "      <th>SepalLengthCm</th>\n",
              "      <th>SepalWidthCm</th>\n",
              "      <th>PetalLengthCm</th>\n",
              "      <th>PetalWidthCm</th>\n",
              "      <th>Iris-setosa</th>\n",
              "      <th>Iris-versicolor</th>\n",
              "      <th>Iris-virginica</th>\n",
              "    </tr>\n",
              "  </thead>\n",
              "  <tbody>\n",
              "    <tr>\n",
              "      <th>0</th>\n",
              "      <td>1</td>\n",
              "      <td>5.1</td>\n",
              "      <td>3.5</td>\n",
              "      <td>1.4</td>\n",
              "      <td>0.2</td>\n",
              "      <td>1</td>\n",
              "      <td>0</td>\n",
              "      <td>0</td>\n",
              "    </tr>\n",
              "    <tr>\n",
              "      <th>1</th>\n",
              "      <td>2</td>\n",
              "      <td>4.9</td>\n",
              "      <td>3.0</td>\n",
              "      <td>1.4</td>\n",
              "      <td>0.2</td>\n",
              "      <td>1</td>\n",
              "      <td>0</td>\n",
              "      <td>0</td>\n",
              "    </tr>\n",
              "    <tr>\n",
              "      <th>2</th>\n",
              "      <td>3</td>\n",
              "      <td>4.7</td>\n",
              "      <td>3.2</td>\n",
              "      <td>1.3</td>\n",
              "      <td>0.2</td>\n",
              "      <td>1</td>\n",
              "      <td>0</td>\n",
              "      <td>0</td>\n",
              "    </tr>\n",
              "    <tr>\n",
              "      <th>3</th>\n",
              "      <td>4</td>\n",
              "      <td>4.6</td>\n",
              "      <td>3.1</td>\n",
              "      <td>1.5</td>\n",
              "      <td>0.2</td>\n",
              "      <td>1</td>\n",
              "      <td>0</td>\n",
              "      <td>0</td>\n",
              "    </tr>\n",
              "    <tr>\n",
              "      <th>4</th>\n",
              "      <td>5</td>\n",
              "      <td>5.0</td>\n",
              "      <td>3.6</td>\n",
              "      <td>1.4</td>\n",
              "      <td>0.2</td>\n",
              "      <td>1</td>\n",
              "      <td>0</td>\n",
              "      <td>0</td>\n",
              "    </tr>\n",
              "  </tbody>\n",
              "</table>\n",
              "</div>"
            ],
            "text/plain": [
              "   Id  SepalLengthCm  ...  Iris-versicolor  Iris-virginica\n",
              "0   1            5.1  ...                0               0\n",
              "1   2            4.9  ...                0               0\n",
              "2   3            4.7  ...                0               0\n",
              "3   4            4.6  ...                0               0\n",
              "4   5            5.0  ...                0               0\n",
              "\n",
              "[5 rows x 8 columns]"
            ]
          },
          "metadata": {
            "tags": []
          },
          "execution_count": 70
        }
      ]
    },
    {
      "cell_type": "code",
      "metadata": {
        "id": "jnZ-inhdSIoV",
        "colab_type": "code",
        "colab": {}
      },
      "source": [
        "iris = iris.values"
      ],
      "execution_count": 0,
      "outputs": []
    },
    {
      "cell_type": "code",
      "metadata": {
        "id": "gvmezB-mSMeT",
        "colab_type": "code",
        "colab": {
          "base_uri": "https://localhost:8080/",
          "height": 34
        },
        "outputId": "3e0d29c8-a6f1-40a8-80fe-4c938f56582c"
      },
      "source": [
        "type(iris)"
      ],
      "execution_count": 72,
      "outputs": [
        {
          "output_type": "execute_result",
          "data": {
            "text/plain": [
              "numpy.ndarray"
            ]
          },
          "metadata": {
            "tags": []
          },
          "execution_count": 72
        }
      ]
    },
    {
      "cell_type": "markdown",
      "metadata": {
        "colab_type": "text",
        "id": "D95nY5ILcihj"
      },
      "source": [
        "### Splitting the data into feature set and target set"
      ]
    },
    {
      "cell_type": "code",
      "metadata": {
        "colab_type": "code",
        "id": "RyMQoLMucihj",
        "colab": {}
      },
      "source": [
        "# split into input (X) and output (Y) variables\n",
        "X = iris[:,0:4]\n",
        "y = iris[:,5:8]"
      ],
      "execution_count": 0,
      "outputs": []
    },
    {
      "cell_type": "markdown",
      "metadata": {
        "colab_type": "text",
        "id": "b22qpC5xcihr"
      },
      "source": [
        "###  Building Model in tf.keras\n",
        "\n",
        "Build a Linear Classifier model  <br>\n",
        "1.  Use Dense Layer  with input shape of 4 (according to the feature set) and number of outputs set to 3<br> \n",
        "2. Apply Softmax on Dense Layer outputs <br>\n",
        "3. Use SGD as Optimizer\n",
        "4. Use categorical_crossentropy as loss function "
      ]
    },
    {
      "cell_type": "code",
      "metadata": {
        "id": "xZBUnpwBWIp3",
        "colab_type": "code",
        "colab": {}
      },
      "source": [
        "from keras.models import Sequential\n",
        "from keras.layers import Dense"
      ],
      "execution_count": 0,
      "outputs": []
    },
    {
      "cell_type": "code",
      "metadata": {
        "id": "gWN2ponhXBL0",
        "colab_type": "code",
        "colab": {}
      },
      "source": [
        "tf.disable_eager_execution()"
      ],
      "execution_count": 0,
      "outputs": []
    },
    {
      "cell_type": "code",
      "metadata": {
        "colab_type": "code",
        "id": "Hov_UFnUciht",
        "colab": {
          "base_uri": "https://localhost:8080/",
          "height": 104
        },
        "outputId": "f0e2d48c-20a1-4910-cfd0-0bb6ed9f37f4"
      },
      "source": [
        "# define base model\n",
        "model = Sequential()\n",
        "model.add(Dense(4, input_dim=4, kernel_initializer='normal', activation='softmax'))\n",
        "model.add(Dense(3, kernel_initializer='normal'))\n",
        "# Compile model\n",
        "model.compile(loss='categorical_crossentropy', optimizer='sgd', metrics=['accuracy'])"
      ],
      "execution_count": 88,
      "outputs": [
        {
          "output_type": "stream",
          "text": [
            "W1201 12:08:08.498079 140709949142912 module_wrapper.py:139] From /usr/local/lib/python2.7/dist-packages/keras/optimizers.py:790: The name tf.train.Optimizer is deprecated. Please use tf.compat.v1.train.Optimizer instead.\n",
            "\n",
            "W1201 12:08:08.520174 140709949142912 module_wrapper.py:139] From /usr/local/lib/python2.7/dist-packages/keras/backend/tensorflow_backend.py:3295: The name tf.log is deprecated. Please use tf.math.log instead.\n",
            "\n"
          ],
          "name": "stderr"
        }
      ]
    },
    {
      "cell_type": "markdown",
      "metadata": {
        "colab_type": "text",
        "id": "T5FdzqIKcihw"
      },
      "source": [
        "### Model Training "
      ]
    },
    {
      "cell_type": "code",
      "metadata": {
        "id": "LoKsD1FeXXm-",
        "colab_type": "code",
        "colab": {}
      },
      "source": [
        "train_x,test_x,train_y,test_y = train_test_split (X,y,test_size = 0.3, random_state =5)"
      ],
      "execution_count": 0,
      "outputs": []
    },
    {
      "cell_type": "code",
      "metadata": {
        "colab_type": "code",
        "id": "4qLEdHPscihx",
        "colab": {
          "base_uri": "https://localhost:8080/",
          "height": 1000
        },
        "outputId": "97a0d543-7645-4eb1-f69e-9b1059a05a0f"
      },
      "source": [
        "model.fit(train_x, train_y, validation_data=(test_x, test_y), epochs=50,\n",
        "          batch_size = train_x.shape[0])"
      ],
      "execution_count": 96,
      "outputs": [
        {
          "output_type": "stream",
          "text": [
            "W1201 12:12:45.953229 140709949142912 deprecation.py:323] From /usr/local/lib/python2.7/dist-packages/tensorflow_core/python/ops/math_grad.py:1424: where (from tensorflow.python.ops.array_ops) is deprecated and will be removed in a future version.\n",
            "Instructions for updating:\n",
            "Use tf.where in 2.0, which has the same broadcast rule as np.where\n",
            "W1201 12:12:46.033421 140709949142912 module_wrapper.py:139] From /usr/local/lib/python2.7/dist-packages/keras/backend/tensorflow_backend.py:2741: The name tf.Session is deprecated. Please use tf.compat.v1.Session instead.\n",
            "\n",
            "W1201 12:12:46.041554 140709949142912 module_wrapper.py:139] From /usr/local/lib/python2.7/dist-packages/keras/backend/tensorflow_backend.py:174: The name tf.get_default_session is deprecated. Please use tf.compat.v1.get_default_session instead.\n",
            "\n",
            "W1201 12:12:46.046971 140709949142912 module_wrapper.py:139] From /usr/local/lib/python2.7/dist-packages/keras/backend/tensorflow_backend.py:190: The name tf.global_variables is deprecated. Please use tf.compat.v1.global_variables instead.\n",
            "\n",
            "W1201 12:12:46.048697 140709949142912 module_wrapper.py:139] From /usr/local/lib/python2.7/dist-packages/keras/backend/tensorflow_backend.py:199: The name tf.is_variable_initialized is deprecated. Please use tf.compat.v1.is_variable_initialized instead.\n",
            "\n",
            "W1201 12:12:46.226198 140709949142912 module_wrapper.py:139] From /usr/local/lib/python2.7/dist-packages/keras/backend/tensorflow_backend.py:206: The name tf.variables_initializer is deprecated. Please use tf.compat.v1.variables_initializer instead.\n",
            "\n"
          ],
          "name": "stderr"
        },
        {
          "output_type": "stream",
          "text": [
            "Train on 105 samples, validate on 45 samples\n",
            "Epoch 1/50\n",
            "105/105 [==============================] - 0s 4ms/step - loss: 5.0305 - acc: 0.2857 - val_loss: 5.7676 - val_acc: 0.3333\n",
            "Epoch 2/50\n",
            "105/105 [==============================] - 0s 26us/step - loss: 5.7324 - acc: 0.3333 - val_loss: 5.7630 - val_acc: 0.3333\n",
            "Epoch 3/50\n",
            "105/105 [==============================] - 0s 47us/step - loss: 5.7282 - acc: 0.3333 - val_loss: 5.7585 - val_acc: 0.3333\n",
            "Epoch 4/50\n",
            "105/105 [==============================] - 0s 31us/step - loss: 5.7240 - acc: 0.3333 - val_loss: 5.7541 - val_acc: 0.3333\n",
            "Epoch 5/50\n",
            "105/105 [==============================] - 0s 28us/step - loss: 5.7200 - acc: 0.3333 - val_loss: 5.7498 - val_acc: 0.3333\n",
            "Epoch 6/50\n",
            "105/105 [==============================] - 0s 27us/step - loss: 5.7161 - acc: 0.3333 - val_loss: 5.7456 - val_acc: 0.3333\n",
            "Epoch 7/50\n",
            "105/105 [==============================] - 0s 30us/step - loss: 5.7123 - acc: 0.3333 - val_loss: 5.7415 - val_acc: 0.3333\n",
            "Epoch 8/50\n",
            "105/105 [==============================] - 0s 28us/step - loss: 5.7085 - acc: 0.3333 - val_loss: 5.7375 - val_acc: 0.3333\n",
            "Epoch 9/50\n",
            "105/105 [==============================] - 0s 30us/step - loss: 5.7049 - acc: 0.3333 - val_loss: 5.7335 - val_acc: 0.3333\n",
            "Epoch 10/50\n",
            "105/105 [==============================] - 0s 28us/step - loss: 5.7013 - acc: 0.3333 - val_loss: 5.7297 - val_acc: 0.3333\n",
            "Epoch 11/50\n",
            "105/105 [==============================] - 0s 39us/step - loss: 5.6978 - acc: 0.3333 - val_loss: 5.7259 - val_acc: 0.3333\n",
            "Epoch 12/50\n",
            "105/105 [==============================] - 0s 24us/step - loss: 5.6943 - acc: 0.3333 - val_loss: 5.7222 - val_acc: 0.3333\n",
            "Epoch 13/50\n",
            "105/105 [==============================] - 0s 36us/step - loss: 5.6909 - acc: 0.3333 - val_loss: 5.7185 - val_acc: 0.3333\n",
            "Epoch 14/50\n",
            "105/105 [==============================] - 0s 28us/step - loss: 5.6876 - acc: 0.3333 - val_loss: 5.7149 - val_acc: 0.3333\n",
            "Epoch 15/50\n",
            "105/105 [==============================] - 0s 26us/step - loss: 5.6844 - acc: 0.3333 - val_loss: 5.7114 - val_acc: 0.3333\n",
            "Epoch 16/50\n",
            "105/105 [==============================] - 0s 29us/step - loss: 5.6812 - acc: 0.3333 - val_loss: 5.7079 - val_acc: 0.3333\n",
            "Epoch 17/50\n",
            "105/105 [==============================] - 0s 29us/step - loss: 5.6780 - acc: 0.3333 - val_loss: 5.7045 - val_acc: 0.3333\n",
            "Epoch 18/50\n",
            "105/105 [==============================] - 0s 29us/step - loss: 5.6749 - acc: 0.3333 - val_loss: 5.7011 - val_acc: 0.3333\n",
            "Epoch 19/50\n",
            "105/105 [==============================] - 0s 28us/step - loss: 5.6718 - acc: 0.3333 - val_loss: 5.6978 - val_acc: 0.3333\n",
            "Epoch 20/50\n",
            "105/105 [==============================] - 0s 26us/step - loss: 5.6688 - acc: 0.3333 - val_loss: 5.6946 - val_acc: 0.3333\n",
            "Epoch 21/50\n",
            "105/105 [==============================] - 0s 28us/step - loss: 5.6658 - acc: 0.3333 - val_loss: 5.6913 - val_acc: 0.3333\n",
            "Epoch 22/50\n",
            "105/105 [==============================] - 0s 27us/step - loss: 5.6629 - acc: 0.3333 - val_loss: 5.6882 - val_acc: 0.3333\n",
            "Epoch 23/50\n",
            "105/105 [==============================] - 0s 26us/step - loss: 5.6600 - acc: 0.3333 - val_loss: 5.6850 - val_acc: 0.3333\n",
            "Epoch 24/50\n",
            "105/105 [==============================] - 0s 22us/step - loss: 5.6571 - acc: 0.3333 - val_loss: 5.6819 - val_acc: 0.3333\n",
            "Epoch 25/50\n",
            "105/105 [==============================] - 0s 30us/step - loss: 5.6543 - acc: 0.3333 - val_loss: 5.6789 - val_acc: 0.3333\n",
            "Epoch 26/50\n",
            "105/105 [==============================] - 0s 30us/step - loss: 5.6515 - acc: 0.3333 - val_loss: 5.6758 - val_acc: 0.3333\n",
            "Epoch 27/50\n",
            "105/105 [==============================] - 0s 19us/step - loss: 5.6488 - acc: 0.3333 - val_loss: 5.6728 - val_acc: 0.3333\n",
            "Epoch 28/50\n",
            "105/105 [==============================] - 0s 31us/step - loss: 5.6460 - acc: 0.3333 - val_loss: 5.6699 - val_acc: 0.3333\n",
            "Epoch 29/50\n",
            "105/105 [==============================] - 0s 28us/step - loss: 5.6434 - acc: 0.3333 - val_loss: 5.6670 - val_acc: 0.3333\n",
            "Epoch 30/50\n",
            "105/105 [==============================] - 0s 26us/step - loss: 5.6407 - acc: 0.3333 - val_loss: 5.6641 - val_acc: 0.3333\n",
            "Epoch 31/50\n",
            "105/105 [==============================] - 0s 26us/step - loss: 5.6380 - acc: 0.3333 - val_loss: 5.6612 - val_acc: 0.3333\n",
            "Epoch 32/50\n",
            "105/105 [==============================] - 0s 26us/step - loss: 5.6354 - acc: 0.3333 - val_loss: 5.6583 - val_acc: 0.3333\n",
            "Epoch 33/50\n",
            "105/105 [==============================] - 0s 27us/step - loss: 5.6328 - acc: 0.3333 - val_loss: 5.6555 - val_acc: 0.3333\n",
            "Epoch 34/50\n",
            "105/105 [==============================] - 0s 30us/step - loss: 5.6303 - acc: 0.3333 - val_loss: 5.6527 - val_acc: 0.3333\n",
            "Epoch 35/50\n",
            "105/105 [==============================] - 0s 29us/step - loss: 5.6277 - acc: 0.3333 - val_loss: 5.6500 - val_acc: 0.3333\n",
            "Epoch 36/50\n",
            "105/105 [==============================] - 0s 34us/step - loss: 5.6252 - acc: 0.3333 - val_loss: 5.6472 - val_acc: 0.3333\n",
            "Epoch 37/50\n",
            "105/105 [==============================] - 0s 35us/step - loss: 5.6227 - acc: 0.3333 - val_loss: 5.6445 - val_acc: 0.3333\n",
            "Epoch 38/50\n",
            "105/105 [==============================] - 0s 34us/step - loss: 5.6202 - acc: 0.3333 - val_loss: 5.6418 - val_acc: 0.3333\n",
            "Epoch 39/50\n",
            "105/105 [==============================] - 0s 56us/step - loss: 5.6178 - acc: 0.3333 - val_loss: 5.6391 - val_acc: 0.3333\n",
            "Epoch 40/50\n",
            "105/105 [==============================] - 0s 48us/step - loss: 5.6153 - acc: 0.3333 - val_loss: 5.6364 - val_acc: 0.3333\n",
            "Epoch 41/50\n",
            "105/105 [==============================] - 0s 36us/step - loss: 5.6129 - acc: 0.3333 - val_loss: 5.6338 - val_acc: 0.3333\n",
            "Epoch 42/50\n",
            "105/105 [==============================] - 0s 45us/step - loss: 5.6105 - acc: 0.3333 - val_loss: 5.6311 - val_acc: 0.3333\n",
            "Epoch 43/50\n",
            "105/105 [==============================] - 0s 42us/step - loss: 5.6081 - acc: 0.3333 - val_loss: 5.6285 - val_acc: 0.3333\n",
            "Epoch 44/50\n",
            "105/105 [==============================] - 0s 41us/step - loss: 5.6057 - acc: 0.3333 - val_loss: 5.6259 - val_acc: 0.3333\n",
            "Epoch 45/50\n",
            "105/105 [==============================] - 0s 36us/step - loss: 5.6033 - acc: 0.3333 - val_loss: 5.6233 - val_acc: 0.3333\n",
            "Epoch 46/50\n",
            "105/105 [==============================] - 0s 37us/step - loss: 5.6010 - acc: 0.3333 - val_loss: 5.6208 - val_acc: 0.3333\n",
            "Epoch 47/50\n",
            "105/105 [==============================] - 0s 56us/step - loss: 5.5986 - acc: 0.3333 - val_loss: 5.6182 - val_acc: 0.3333\n",
            "Epoch 48/50\n",
            "105/105 [==============================] - 0s 51us/step - loss: 5.5963 - acc: 0.3333 - val_loss: 5.6157 - val_acc: 0.3333\n",
            "Epoch 49/50\n",
            "105/105 [==============================] - 0s 49us/step - loss: 5.5940 - acc: 0.3333 - val_loss: 5.6131 - val_acc: 0.3333\n",
            "Epoch 50/50\n",
            "105/105 [==============================] - 0s 45us/step - loss: 5.5917 - acc: 0.3333 - val_loss: 5.6106 - val_acc: 0.3333\n"
          ],
          "name": "stdout"
        },
        {
          "output_type": "execute_result",
          "data": {
            "text/plain": [
              "<keras.callbacks.History at 0x7ff927b9eb50>"
            ]
          },
          "metadata": {
            "tags": []
          },
          "execution_count": 96
        }
      ]
    },
    {
      "cell_type": "markdown",
      "metadata": {
        "colab_type": "text",
        "id": "y-SgSSdRcih5"
      },
      "source": [
        "### Model Prediction"
      ]
    },
    {
      "cell_type": "code",
      "metadata": {
        "colab_type": "code",
        "id": "GBgKZkhkcih6",
        "colab": {
          "base_uri": "https://localhost:8080/",
          "height": 773
        },
        "outputId": "a0b2b0bf-6cad-452b-ec62-495e1fe467c6"
      },
      "source": [
        "model.predict(test_x)"
      ],
      "execution_count": 97,
      "outputs": [
        {
          "output_type": "execute_result",
          "data": {
            "text/plain": [
              "array([[ 1.2839463 , -0.83517134, -2.0794253 ],\n",
              "       [ 1.2839463 , -0.83517134, -2.0794253 ],\n",
              "       [ 1.2839463 , -0.83517134, -2.0794253 ],\n",
              "       [ 1.2839463 , -0.83517134, -2.0794253 ],\n",
              "       [ 1.2839463 , -0.83517134, -2.0794253 ],\n",
              "       [ 1.2839463 , -0.83517134, -2.0794253 ],\n",
              "       [ 1.2839463 , -0.83517134, -2.0794253 ],\n",
              "       [ 1.2839463 , -0.83517134, -2.0794253 ],\n",
              "       [ 1.2839463 , -0.83517134, -2.0794253 ],\n",
              "       [ 1.2839463 , -0.83517134, -2.0794253 ],\n",
              "       [ 1.2839463 , -0.83517134, -2.0794253 ],\n",
              "       [ 1.2839463 , -0.83517134, -2.0794253 ],\n",
              "       [ 1.2839463 , -0.83517134, -2.0794253 ],\n",
              "       [ 1.2839463 , -0.83517134, -2.0794253 ],\n",
              "       [ 1.2839463 , -0.83517134, -2.0794253 ],\n",
              "       [ 1.2839463 , -0.83517134, -2.0794253 ],\n",
              "       [ 1.2839463 , -0.83517134, -2.0794253 ],\n",
              "       [ 1.2839463 , -0.83517134, -2.0794253 ],\n",
              "       [ 1.2839463 , -0.83517134, -2.0794253 ],\n",
              "       [ 1.2839463 , -0.83517134, -2.0794253 ],\n",
              "       [ 1.2839463 , -0.83517134, -2.0794253 ],\n",
              "       [ 1.2839463 , -0.83517134, -2.0794253 ],\n",
              "       [ 1.2839463 , -0.83517134, -2.0794253 ],\n",
              "       [ 1.2839463 , -0.83517134, -2.0794253 ],\n",
              "       [ 1.2839463 , -0.83517134, -2.0794253 ],\n",
              "       [ 1.2839463 , -0.83517134, -2.0794253 ],\n",
              "       [ 1.2839463 , -0.83517134, -2.0794253 ],\n",
              "       [ 1.2839463 , -0.83517134, -2.0794253 ],\n",
              "       [ 1.2839463 , -0.83517134, -2.0794253 ],\n",
              "       [ 1.2839463 , -0.83517134, -2.0794253 ],\n",
              "       [ 1.2839463 , -0.83517134, -2.0794253 ],\n",
              "       [ 1.2839463 , -0.83517134, -2.0794253 ],\n",
              "       [ 1.2839463 , -0.83517134, -2.0794253 ],\n",
              "       [ 1.2839463 , -0.83517134, -2.0794253 ],\n",
              "       [ 1.2839463 , -0.83517134, -2.0794253 ],\n",
              "       [ 1.2839463 , -0.83517134, -2.0794253 ],\n",
              "       [ 1.2839463 , -0.83517134, -2.0794253 ],\n",
              "       [ 1.2839463 , -0.83517134, -2.0794253 ],\n",
              "       [ 1.2839463 , -0.83517134, -2.0794253 ],\n",
              "       [ 1.2839463 , -0.83517134, -2.0794253 ],\n",
              "       [ 1.2839463 , -0.83517134, -2.0794253 ],\n",
              "       [ 1.2839463 , -0.83517134, -2.0794253 ],\n",
              "       [ 1.2839463 , -0.83517134, -2.0794253 ],\n",
              "       [ 1.2839463 , -0.83517134, -2.0794253 ],\n",
              "       [ 1.2839463 , -0.83517134, -2.0794253 ]], dtype=float32)"
            ]
          },
          "metadata": {
            "tags": []
          },
          "execution_count": 97
        }
      ]
    },
    {
      "cell_type": "markdown",
      "metadata": {
        "colab_type": "text",
        "id": "P32ASP1Vjt0a"
      },
      "source": [
        "### Save the Model"
      ]
    },
    {
      "cell_type": "code",
      "metadata": {
        "colab_type": "code",
        "id": "n8rd0jjAjyTR",
        "colab": {}
      },
      "source": [
        "model.save('iris_model-santosh.html')"
      ],
      "execution_count": 0,
      "outputs": []
    },
    {
      "cell_type": "markdown",
      "metadata": {
        "colab_type": "text",
        "id": "XiipRpe7rbVh"
      },
      "source": [
        "### Build and Train a Deep Neural network with 2 hidden layer  - Optional - For Practice\n",
        "\n",
        "Does it perform better than Linear Classifier? What could be the reason for difference in performance?"
      ]
    },
    {
      "cell_type": "code",
      "metadata": {
        "colab_type": "code",
        "id": "v5Du3lubr4sA",
        "colab": {}
      },
      "source": [
        ""
      ],
      "execution_count": 0,
      "outputs": []
    },
    {
      "cell_type": "code",
      "metadata": {
        "id": "-2idTMzjyWaB",
        "colab_type": "code",
        "colab": {}
      },
      "source": [
        ""
      ],
      "execution_count": 0,
      "outputs": []
    }
  ]
}